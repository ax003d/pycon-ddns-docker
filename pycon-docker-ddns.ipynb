{
 "cells": [
  {
   "cell_type": "code",
   "execution_count": 5,
   "metadata": {
    "collapsed": false
   },
   "outputs": [
    {
     "name": "stdout",
     "output_type": "stream",
     "text": [
      "REPOSITORY          TAG                 IMAGE ID            CREATED             VIRTUAL SIZE\r\n",
      "pycon/webapp        latest              4d6e15dedf9e        15 hours ago        817.6 MB\r\n"
     ]
    }
   ],
   "source": [
    "# 查看本地镜像\n",
    "docker images pycon/webapp"
   ]
  },
  {
   "cell_type": "code",
   "execution_count": 9,
   "metadata": {
    "collapsed": false
   },
   "outputs": [
    {
     "name": "stdout",
     "output_type": "stream",
     "text": []
    }
   ],
   "source": [
    "# 创建 webapp 容器，并运行该容器\n",
    "docker run -d --name webapp pycon/webapp"
   ]
  },
  {
   "cell_type": "code",
   "execution_count": 1,
   "metadata": {
    "collapsed": false
   },
   "outputs": [
    {
     "name": "stdout",
     "output_type": "stream",
     "text": [
      "CONTAINER ID        IMAGE               COMMAND                CREATED             STATUS              PORTS               NAMES\r\n",
      "1b79abd1f204        pycon/webapp        \"docker-entrypoint.s   18 seconds ago      Up 18 seconds       80/tcp              webapp              \r\n"
     ]
    }
   ],
   "source": [
    "# 查看运行中的容器\n",
    "docker ps"
   ]
  },
  {
   "cell_type": "code",
   "execution_count": 5,
   "metadata": {
    "collapsed": false
   },
   "outputs": [
    {
     "name": "stdout",
     "output_type": "stream",
     "text": [
      "        \"\u001b[01;31m\u001b[KIPAddress\u001b[m\u001b[K\": \"172.17.0.34\",\r\n",
      "        \"Secondary\u001b[01;31m\u001b[KIPAddress\u001b[m\u001b[Kes\": null,\r\n"
     ]
    }
   ],
   "source": [
    "# 查看 webapp 容器的 IP 地址\n",
    "docker inspect webapp | grep \"IPAddress\""
   ]
  },
  {
   "cell_type": "markdown",
   "metadata": {},
   "source": [
    "访问 webapp 服务"
   ]
  },
  {
   "cell_type": "code",
   "execution_count": 3,
   "metadata": {
    "collapsed": false
   },
   "outputs": [
    {
     "name": "stdout",
     "output_type": "stream",
     "text": [
      "webapp\r\n"
     ]
    }
   ],
   "source": [
    "docker stop webapp"
   ]
  },
  {
   "cell_type": "code",
   "execution_count": 4,
   "metadata": {
    "collapsed": false
   },
   "outputs": [
    {
     "name": "stdout",
     "output_type": "stream",
     "text": [
      "webapp\r\n"
     ]
    }
   ],
   "source": [
    "docker start webapp"
   ]
  },
  {
   "cell_type": "code",
   "execution_count": 6,
   "metadata": {
    "collapsed": false
   },
   "outputs": [
    {
     "name": "stdout",
     "output_type": "stream",
     "text": [
      "REPOSITORY              TAG                 IMAGE ID            CREATED             VIRTUAL SIZE\r\n",
      "somejedi/docker-bind9   latest              7c1c3d63d711        13 months ago       295.6 MB\r\n"
     ]
    }
   ],
   "source": [
    "# pull bind9 image\n",
    "# docker pull somejedi/docker-bind9\n",
    "docker images somejedi/docker-bind9"
   ]
  },
  {
   "cell_type": "code",
   "execution_count": 7,
   "metadata": {
    "collapsed": false
   },
   "outputs": [
    {
     "name": "stdout",
     "output_type": "stream",
     "text": [
      "939db8a7ba5d8399be7ce30d559fe905cf53676aa94d6efe67b1b25438a0ffa8\r\n"
     ]
    }
   ],
   "source": [
    "# start bind9 DNS server\n",
    "# cd /mnt/workspace/\n",
    "docker run -d \\\n",
    "-p 172.17.42.1:53:53/udp \\\n",
    "--name dns \\\n",
    "-v /mnt/workspace/pycon-ddns-docker/bind:/data somejedi/docker-bind9 \\\n",
    "/usr/sbin/named -c /etc/bind/named.conf -g"
   ]
  },
  {
   "cell_type": "markdown",
   "metadata": {},
   "source": [
    "在 Ubuntu 中，设置本地 DNS\n",
    "```\n",
    "# /etc/resolv.conf\n",
    "nameserver 172.17.42.1\n",
    "nameserver 127.0.1.1\n",
    "```"
   ]
  },
  {
   "cell_type": "code",
   "execution_count": 8,
   "metadata": {
    "collapsed": false
   },
   "outputs": [
    {
     "name": "stdout",
     "output_type": "stream",
     "text": [
      "dns\r\n"
     ]
    }
   ],
   "source": [
    "docker exec dns cp /etc/bind/db.local /var/lib/bind/db.devops.it\n",
    "docker restart dns"
   ]
  },
  {
   "cell_type": "code",
   "execution_count": 3,
   "metadata": {
    "collapsed": false
   },
   "outputs": [
    {
     "name": "stdout",
     "output_type": "stream",
     "text": [
      "Error response from daemon: no such id: dns\r\n",
      "Error: failed to start containers: [dns]\r\n"
     ]
    }
   ],
   "source": [
    "docker start dns"
   ]
  },
  {
   "cell_type": "code",
   "execution_count": 9,
   "metadata": {
    "collapsed": false
   },
   "outputs": [
    {
     "name": "stdout",
     "output_type": "stream",
     "text": [
      "12-Sep-2015 08:28:59.504 starting BIND 9.9.5-3-Ubuntu -c /etc/bind/named.conf -g\r\n",
      "12-Sep-2015 08:28:59.504 built with '--prefix=/usr' '--mandir=/usr/share/man' '--infodir=/usr/share/info' '--sysconfdir=/etc/bind' '--localstatedir=/var' '--enable-threads' '--enable-largefile' '--with-libtool' '--enable-shared' '--enable-static' '--with-openssl=/usr' '--with-gssapi=/usr' '--with-gnu-ld' '--with-geoip=/usr' '--with-atf=no' '--enable-ipv6' '--enable-rrl' '--enable-filter-aaaa' 'CFLAGS=-fno-strict-aliasing -DDIG_SIGCHASE -O2'\r\n",
      "12-Sep-2015 08:28:59.504 ----------------------------------------------------\r\n",
      "12-Sep-2015 08:28:59.504 BIND 9 is maintained by Internet Systems Consortium,\r\n",
      "12-Sep-2015 08:28:59.504 Inc. (ISC), a non-profit 501(c)(3) public-benefit \r\n",
      "12-Sep-2015 08:28:59.504 corporation.  Support and training for BIND 9 are \r\n",
      "12-Sep-2015 08:28:59.504 available at https://www.isc.org/support\r\n",
      "12-Sep-2015 08:28:59.504 ----------------------------------------------------\r\n",
      "12-Sep-2015 08:28:59.504 found 4 CPUs, using 4 worker threads\r\n",
      "12-Sep-2015 08:28:59.504 using 4 UDP listeners per interface\r\n",
      "12-Sep-2015 08:28:59.505 using up to 4096 sockets\r\n",
      "12-Sep-2015 08:28:59.510 loading configuration from '/etc/bind/named.conf'\r\n",
      "12-Sep-2015 08:28:59.512 reading built-in trusted keys from file '/etc/bind/bind.keys'\r\n",
      "12-Sep-2015 08:28:59.513 using default UDP/IPv4 port range: [1024, 65535]\r\n",
      "12-Sep-2015 08:28:59.513 using default UDP/IPv6 port range: [1024, 65535]\r\n",
      "12-Sep-2015 08:28:59.514 listening on IPv6 interfaces, port 53\r\n",
      "12-Sep-2015 08:28:59.516 listening on IPv4 interface lo, 127.0.0.1#53\r\n",
      "12-Sep-2015 08:28:59.517 listening on IPv4 interface eth0, 172.17.0.35#53\r\n",
      "12-Sep-2015 08:28:59.519 generating session key for dynamic DNS\r\n",
      "12-Sep-2015 08:28:59.519 sizing zone task pool based on 6 zones\r\n",
      "12-Sep-2015 08:28:59.524 using built-in root key for view _default\r\n",
      "12-Sep-2015 08:28:59.524 set up managed keys zone for view _default, file 'managed-keys.bind'\r\n",
      "12-Sep-2015 08:28:59.524 automatic empty zone: 10.IN-ADDR.ARPA\r\n",
      "12-Sep-2015 08:28:59.524 automatic empty zone: 16.172.IN-ADDR.ARPA\r\n",
      "12-Sep-2015 08:28:59.524 automatic empty zone: 17.172.IN-ADDR.ARPA\r\n",
      "12-Sep-2015 08:28:59.524 automatic empty zone: 18.172.IN-ADDR.ARPA\r\n",
      "12-Sep-2015 08:28:59.524 automatic empty zone: 19.172.IN-ADDR.ARPA\r\n",
      "12-Sep-2015 08:28:59.525 automatic empty zone: 20.172.IN-ADDR.ARPA\r\n",
      "12-Sep-2015 08:28:59.525 automatic empty zone: 21.172.IN-ADDR.ARPA\r\n",
      "12-Sep-2015 08:28:59.525 automatic empty zone: 22.172.IN-ADDR.ARPA\r\n",
      "12-Sep-2015 08:28:59.525 automatic empty zone: 23.172.IN-ADDR.ARPA\r\n",
      "12-Sep-2015 08:28:59.525 automatic empty zone: 24.172.IN-ADDR.ARPA\r\n",
      "12-Sep-2015 08:28:59.525 automatic empty zone: 25.172.IN-ADDR.ARPA\r\n",
      "12-Sep-2015 08:28:59.525 automatic empty zone: 26.172.IN-ADDR.ARPA\r\n",
      "12-Sep-2015 08:28:59.525 automatic empty zone: 27.172.IN-ADDR.ARPA\r\n",
      "12-Sep-2015 08:28:59.525 automatic empty zone: 28.172.IN-ADDR.ARPA\r\n",
      "12-Sep-2015 08:28:59.525 automatic empty zone: 29.172.IN-ADDR.ARPA\r\n",
      "12-Sep-2015 08:28:59.525 automatic empty zone: 30.172.IN-ADDR.ARPA\r\n",
      "12-Sep-2015 08:28:59.525 automatic empty zone: 31.172.IN-ADDR.ARPA\r\n",
      "12-Sep-2015 08:28:59.525 automatic empty zone: 168.192.IN-ADDR.ARPA\r\n",
      "12-Sep-2015 08:28:59.526 automatic empty zone: 64.100.IN-ADDR.ARPA\r\n",
      "12-Sep-2015 08:28:59.526 automatic empty zone: 65.100.IN-ADDR.ARPA\r\n",
      "12-Sep-2015 08:28:59.526 automatic empty zone: 66.100.IN-ADDR.ARPA\r\n",
      "12-Sep-2015 08:28:59.526 automatic empty zone: 67.100.IN-ADDR.ARPA\r\n",
      "12-Sep-2015 08:28:59.526 automatic empty zone: 68.100.IN-ADDR.ARPA\r\n",
      "12-Sep-2015 08:28:59.526 automatic empty zone: 69.100.IN-ADDR.ARPA\r\n",
      "12-Sep-2015 08:28:59.526 automatic empty zone: 70.100.IN-ADDR.ARPA\r\n",
      "12-Sep-2015 08:28:59.526 automatic empty zone: 71.100.IN-ADDR.ARPA\r\n",
      "12-Sep-2015 08:28:59.526 automatic empty zone: 72.100.IN-ADDR.ARPA\r\n",
      "12-Sep-2015 08:28:59.527 automatic empty zone: 73.100.IN-ADDR.ARPA\r\n",
      "12-Sep-2015 08:28:59.527 automatic empty zone: 74.100.IN-ADDR.ARPA\r\n",
      "12-Sep-2015 08:28:59.527 automatic empty zone: 75.100.IN-ADDR.ARPA\r\n",
      "12-Sep-2015 08:28:59.527 automatic empty zone: 76.100.IN-ADDR.ARPA\r\n",
      "12-Sep-2015 08:28:59.527 automatic empty zone: 77.100.IN-ADDR.ARPA\r\n",
      "12-Sep-2015 08:28:59.527 automatic empty zone: 78.100.IN-ADDR.ARPA\r\n",
      "12-Sep-2015 08:28:59.527 automatic empty zone: 79.100.IN-ADDR.ARPA\r\n",
      "12-Sep-2015 08:28:59.527 automatic empty zone: 80.100.IN-ADDR.ARPA\r\n",
      "12-Sep-2015 08:28:59.527 automatic empty zone: 81.100.IN-ADDR.ARPA\r\n",
      "12-Sep-2015 08:28:59.527 automatic empty zone: 82.100.IN-ADDR.ARPA\r\n",
      "12-Sep-2015 08:28:59.527 automatic empty zone: 83.100.IN-ADDR.ARPA\r\n",
      "12-Sep-2015 08:28:59.527 automatic empty zone: 84.100.IN-ADDR.ARPA\r\n",
      "12-Sep-2015 08:28:59.527 automatic empty zone: 85.100.IN-ADDR.ARPA\r\n",
      "12-Sep-2015 08:28:59.527 automatic empty zone: 86.100.IN-ADDR.ARPA\r\n",
      "12-Sep-2015 08:28:59.527 automatic empty zone: 87.100.IN-ADDR.ARPA\r\n",
      "12-Sep-2015 08:28:59.527 automatic empty zone: 88.100.IN-ADDR.ARPA\r\n",
      "12-Sep-2015 08:28:59.527 automatic empty zone: 89.100.IN-ADDR.ARPA\r\n",
      "12-Sep-2015 08:28:59.527 automatic empty zone: 90.100.IN-ADDR.ARPA\r\n",
      "12-Sep-2015 08:28:59.527 automatic empty zone: 91.100.IN-ADDR.ARPA\r\n",
      "12-Sep-2015 08:28:59.528 automatic empty zone: 92.100.IN-ADDR.ARPA\r\n",
      "12-Sep-2015 08:28:59.528 automatic empty zone: 93.100.IN-ADDR.ARPA\r\n",
      "12-Sep-2015 08:28:59.528 automatic empty zone: 94.100.IN-ADDR.ARPA\r\n",
      "12-Sep-2015 08:28:59.528 automatic empty zone: 95.100.IN-ADDR.ARPA\r\n",
      "12-Sep-2015 08:28:59.528 automatic empty zone: 96.100.IN-ADDR.ARPA\r\n",
      "12-Sep-2015 08:28:59.528 automatic empty zone: 97.100.IN-ADDR.ARPA\r\n",
      "12-Sep-2015 08:28:59.528 automatic empty zone: 98.100.IN-ADDR.ARPA\r\n",
      "12-Sep-2015 08:28:59.528 automatic empty zone: 99.100.IN-ADDR.ARPA\r\n",
      "12-Sep-2015 08:28:59.528 automatic empty zone: 100.100.IN-ADDR.ARPA\r\n",
      "12-Sep-2015 08:28:59.528 automatic empty zone: 101.100.IN-ADDR.ARPA\r\n",
      "12-Sep-2015 08:28:59.528 automatic empty zone: 102.100.IN-ADDR.ARPA\r\n",
      "12-Sep-2015 08:28:59.528 automatic empty zone: 103.100.IN-ADDR.ARPA\r\n",
      "12-Sep-2015 08:28:59.528 automatic empty zone: 104.100.IN-ADDR.ARPA\r\n",
      "12-Sep-2015 08:28:59.528 automatic empty zone: 105.100.IN-ADDR.ARPA\r\n",
      "12-Sep-2015 08:28:59.528 automatic empty zone: 106.100.IN-ADDR.ARPA\r\n",
      "12-Sep-2015 08:28:59.529 automatic empty zone: 107.100.IN-ADDR.ARPA\r\n",
      "12-Sep-2015 08:28:59.529 automatic empty zone: 108.100.IN-ADDR.ARPA\r\n",
      "12-Sep-2015 08:28:59.529 automatic empty zone: 109.100.IN-ADDR.ARPA\r\n",
      "12-Sep-2015 08:28:59.529 automatic empty zone: 110.100.IN-ADDR.ARPA\r\n",
      "12-Sep-2015 08:28:59.529 automatic empty zone: 111.100.IN-ADDR.ARPA\r\n",
      "12-Sep-2015 08:28:59.529 automatic empty zone: 112.100.IN-ADDR.ARPA\r\n",
      "12-Sep-2015 08:28:59.529 automatic empty zone: 113.100.IN-ADDR.ARPA\r\n",
      "12-Sep-2015 08:28:59.529 automatic empty zone: 114.100.IN-ADDR.ARPA\r\n",
      "12-Sep-2015 08:28:59.529 automatic empty zone: 115.100.IN-ADDR.ARPA\r\n",
      "12-Sep-2015 08:28:59.529 automatic empty zone: 116.100.IN-ADDR.ARPA\r\n",
      "12-Sep-2015 08:28:59.529 automatic empty zone: 117.100.IN-ADDR.ARPA\r\n",
      "12-Sep-2015 08:28:59.529 automatic empty zone: 118.100.IN-ADDR.ARPA\r\n",
      "12-Sep-2015 08:28:59.529 automatic empty zone: 119.100.IN-ADDR.ARPA\r\n",
      "12-Sep-2015 08:28:59.530 automatic empty zone: 120.100.IN-ADDR.ARPA\r\n",
      "12-Sep-2015 08:28:59.530 automatic empty zone: 121.100.IN-ADDR.ARPA\r\n",
      "12-Sep-2015 08:28:59.530 automatic empty zone: 122.100.IN-ADDR.ARPA\r\n",
      "12-Sep-2015 08:28:59.530 automatic empty zone: 123.100.IN-ADDR.ARPA\r\n",
      "12-Sep-2015 08:28:59.530 automatic empty zone: 124.100.IN-ADDR.ARPA\r\n",
      "12-Sep-2015 08:28:59.530 automatic empty zone: 125.100.IN-ADDR.ARPA\r\n",
      "12-Sep-2015 08:28:59.530 automatic empty zone: 126.100.IN-ADDR.ARPA\r\n",
      "12-Sep-2015 08:28:59.530 automatic empty zone: 127.100.IN-ADDR.ARPA\r\n",
      "12-Sep-2015 08:28:59.530 automatic empty zone: 254.169.IN-ADDR.ARPA\r\n",
      "12-Sep-2015 08:28:59.530 automatic empty zone: 2.0.192.IN-ADDR.ARPA\r\n",
      "12-Sep-2015 08:28:59.530 automatic empty zone: 100.51.198.IN-ADDR.ARPA\r\n",
      "12-Sep-2015 08:28:59.530 automatic empty zone: 113.0.203.IN-ADDR.ARPA\r\n",
      "12-Sep-2015 08:28:59.530 automatic empty zone: 255.255.255.255.IN-ADDR.ARPA\r\n",
      "12-Sep-2015 08:28:59.530 automatic empty zone: 0.0.0.0.0.0.0.0.0.0.0.0.0.0.0.0.0.0.0.0.0.0.0.0.0.0.0.0.0.0.0.0.IP6.ARPA\r\n",
      "12-Sep-2015 08:28:59.530 automatic empty zone: 1.0.0.0.0.0.0.0.0.0.0.0.0.0.0.0.0.0.0.0.0.0.0.0.0.0.0.0.0.0.0.0.IP6.ARPA\r\n",
      "12-Sep-2015 08:28:59.530 automatic empty zone: D.F.IP6.ARPA\r\n",
      "12-Sep-2015 08:28:59.531 automatic empty zone: 8.E.F.IP6.ARPA\r\n",
      "12-Sep-2015 08:28:59.531 automatic empty zone: 9.E.F.IP6.ARPA\r\n",
      "12-Sep-2015 08:28:59.531 automatic empty zone: A.E.F.IP6.ARPA\r\n",
      "12-Sep-2015 08:28:59.531 automatic empty zone: B.E.F.IP6.ARPA\r\n",
      "12-Sep-2015 08:28:59.531 automatic empty zone: 8.B.D.0.1.0.0.2.IP6.ARPA\r\n",
      "12-Sep-2015 08:28:59.534 open: /etc/bind/rndc.key: permission denied\r\n",
      "12-Sep-2015 08:28:59.534 couldn't add command channel 127.0.0.1#953: permission denied\r\n",
      "12-Sep-2015 08:28:59.534 open: /etc/bind/rndc.key: permission denied\r\n",
      "12-Sep-2015 08:28:59.534 couldn't add command channel ::1#953: permission denied\r\n",
      "12-Sep-2015 08:28:59.534 not using config file logging statement for logging due to -g option\r\n",
      "12-Sep-2015 08:28:59.536 managed-keys-zone: loaded serial 0\r\n",
      "12-Sep-2015 08:28:59.537 zone 0.in-addr.arpa/IN: loaded serial 1\r\n",
      "12-Sep-2015 08:28:59.545 zone 127.in-addr.arpa/IN: loaded serial 1\r\n",
      "12-Sep-2015 08:28:59.546 zone 255.in-addr.arpa/IN: loaded serial 1\r\n",
      "12-Sep-2015 08:28:59.547 zone devops.it/IN: loading from master file /var/lib/bind/db.devops.it failed: file not found\r\n",
      "12-Sep-2015 08:28:59.547 zone devops.it/IN: not loaded due to errors.\r\n",
      "12-Sep-2015 08:28:59.548 zone localhost/IN: loaded serial 2\r\n",
      "12-Sep-2015 08:28:59.548 all zones loaded\r\n",
      "12-Sep-2015 08:28:59.549 running\r\n",
      "12-Sep-2015 08:29:01.395 error (network unreachable) resolving './DNSKEY/IN': 2001:503:c27::2:30#53\r\n",
      "12-Sep-2015 08:29:01.395 error (network unreachable) resolving './DNSKEY/IN': 2001:500:3::42#53\r\n",
      "12-Sep-2015 08:29:01.395 error (network unreachable) resolving './DNSKEY/IN': 2001:dc3::35#53\r\n",
      "12-Sep-2015 08:29:01.550 error (network unreachable) resolving 'cfdsyuww/A/IN': 2001:503:ba3e::2:30#53\r\n",
      "12-Sep-2015 08:29:01.550 error (network unreachable) resolving 'iaocihxnspvgf/A/IN': 2001:503:ba3e::2:30#53\r\n",
      "12-Sep-2015 08:29:01.551 error (network unreachable) resolving 'kmzyrvemcdk/A/IN': 2001:503:ba3e::2:30#53\r\n",
      "12-Sep-2015 08:29:01.618 error (network unreachable) resolving 'ns1.p27.dynect.net/A/IN': 2001:503:c27::2:30#53\r\n",
      "12-Sep-2015 08:29:01.619 error (network unreachable) resolving 'ns1.p27.dynect.net/A/IN': 2001:500:3::42#53\r\n",
      "12-Sep-2015 08:29:01.619 error (network unreachable) resolving 'ns4.p27.dynect.net/A/IN': 2001:503:c27::2:30#53\r\n",
      "12-Sep-2015 08:29:01.620 error (network unreachable) resolving 'ns3.p27.dynect.net/A/IN': 2001:503:c27::2:30#53\r\n",
      "12-Sep-2015 08:29:01.620 error (network unreachable) resolving 'ns3.p27.dynect.net/AAAA/IN': 2001:503:c27::2:30#53\r\n",
      "12-Sep-2015 08:29:01.620 error (network unreachable) resolving 'ns3.p27.dynect.net/A/IN': 2001:500:3::42#53\r\n",
      "12-Sep-2015 08:29:01.620 error (network unreachable) resolving 'ns3.p27.dynect.net/AAAA/IN': 2001:500:3::42#53\r\n",
      "12-Sep-2015 08:29:01.620 error (network unreachable) resolving 'ns3.p27.dynect.net/A/IN': 2001:dc3::35#53\r\n",
      "12-Sep-2015 08:29:01.621 error (network unreachable) resolving 'ns3.p27.dynect.net/AAAA/IN': 2001:dc3::35#53\r\n",
      "12-Sep-2015 08:29:01.621 error (network unreachable) resolving 'ns1.p27.dynect.net/AAAA/IN': 2001:503:c27::2:30#53\r\n",
      "12-Sep-2015 08:29:01.622 error (network unreachable) resolving 'ns1.p27.dynect.net/A/IN': 2001:dc3::35#53\r\n",
      "12-Sep-2015 08:29:01.622 error (network unreachable) resolving 'ns4.p27.dynect.net/A/IN': 2001:500:3::42#53\r\n",
      "12-Sep-2015 08:29:01.622 error (network unreachable) resolving 'ns4.p27.dynect.net/A/IN': 2001:dc3::35#53\r\n",
      "12-Sep-2015 08:29:01.622 error (network unreachable) resolving 'ns1.p27.dynect.net/AAAA/IN': 2001:500:3::42#53\r\n",
      "12-Sep-2015 08:29:01.622 error (network unreachable) resolving 'ns2.p27.dynect.net/A/IN': 2001:503:c27::2:30#53\r\n",
      "12-Sep-2015 08:29:01.622 error (network unreachable) resolving 'ns1.p27.dynect.net/AAAA/IN': 2001:dc3::35#53\r\n",
      "12-Sep-2015 08:29:01.622 error (network unreachable) resolving 'ns2.p27.dynect.net/AAAA/IN': 2001:503:c27::2:30#53\r\n",
      "12-Sep-2015 08:29:01.622 error (network unreachable) resolving 'ns2.p27.dynect.net/A/IN': 2001:500:3::42#53\r\n",
      "12-Sep-2015 08:29:01.623 error (network unreachable) resolving 'ns2.p27.dynect.net/AAAA/IN': 2001:500:3::42#53\r\n",
      "12-Sep-2015 08:29:01.623 error (network unreachable) resolving 'ns2.p27.dynect.net/A/IN': 2001:dc3::35#53\r\n",
      "12-Sep-2015 08:29:01.623 error (network unreachable) resolving 'ns2.p27.dynect.net/AAAA/IN': 2001:dc3::35#53\r\n",
      "12-Sep-2015 08:29:01.749 error (network unreachable) resolving 'ns4.p27.dynect.net/AAAA/IN': 2001:503:a83e::2:30#53\r\n",
      "12-Sep-2015 08:29:01.951 error (network unreachable) resolving './DNSKEY/IN': 2001:503:c27::2:30#53\r\n",
      "12-Sep-2015 08:29:01.951 error (network unreachable) resolving './DNSKEY/IN': 2001:500:3::42#53\r\n",
      "12-Sep-2015 08:29:01.951 error (network unreachable) resolving './DNSKEY/IN': 2001:dc3::35#53\r\n",
      "12-Sep-2015 08:29:02.008 error (network unreachable) resolving 'daisy.ubuntu.com/AAAA/IN': 2001:503:c27::2:30#53\r\n",
      "12-Sep-2015 08:29:02.008 error (network unreachable) resolving 'daisy.ubuntu.com/AAAA/IN': 2001:500:3::42#53\r\n",
      "12-Sep-2015 08:29:02.008 error (network unreachable) resolving 'daisy.ubuntu.com/AAAA/IN': 2001:dc3::35#53\r\n",
      "12-Sep-2015 08:29:02.131 success resolving './DNSKEY' (in '.'?) after reducing the advertised EDNS UDP packet size to 512 octets\r\n",
      "12-Sep-2015 08:29:02.600 error (network unreachable) resolving 'ns2.p27.dynect.net/AAAA/IN': 2001:503:231d::2:30#53\r\n",
      "12-Sep-2015 08:29:03.020 error (network unreachable) resolving 'com/DS/IN': 2001:7fd::1#53\r\n",
      "12-Sep-2015 08:29:03.020 error (network unreachable) resolving './NS/IN': 2001:7fd::1#53\r\n",
      "12-Sep-2015 08:29:03.222 error (network unreachable) resolving 'ns1.p27.dynect.net/A/IN': 2001:7fd::1#53\r\n",
      "12-Sep-2015 08:29:03.223 error (network unreachable) resolving 'ns1.p27.dynect.net/AAAA/IN': 2001:7fd::1#53\r\n",
      "12-Sep-2015 08:29:03.223 error (network unreachable) resolving 'ns2.p27.dynect.net/A/IN': 2001:7fd::1#53\r\n",
      "12-Sep-2015 08:29:03.535 success resolving 'ns1.p27.dynect.net/A' (in 'dynect.net'?) after reducing the advertised EDNS UDP packet size to 512 octets\r\n",
      "12-Sep-2015 08:29:03.545 success resolving 'ns1.p27.dynect.net/AAAA' (in 'dynect.net'?) after reducing the advertised EDNS UDP packet size to 512 octets\r\n",
      "12-Sep-2015 08:29:04.024 error (network unreachable) resolving 'ns2.p27.dynect.net/A/IN': 2001:500:2f::f#53\r\n",
      "12-Sep-2015 08:29:04.620 error (network unreachable) resolving 'com/DS/IN': 2001:500:2f::f#53\r\n",
      "12-Sep-2015 08:29:04.824 error (network unreachable) resolving 'ns2.p27.dynect.net/A/IN': 2001:7fe::53#53\r\n",
      "12-Sep-2015 08:29:04.825 error (network unreachable) resolving 'ns2.p27.dynect.net/A/IN': 2001:500:2d::d#53\r\n",
      "12-Sep-2015 08:29:05.012 error (network unreachable) resolving 'ns2.p27.dynect.net/A/IN': 2001:500:94::100#53\r\n",
      "12-Sep-2015 08:29:05.421 error (network unreachable) resolving 'com/DS/IN': 2001:7fe::53#53\r\n",
      "12-Sep-2015 08:29:05.421 error (network unreachable) resolving 'com/DS/IN': 2001:500:2d::d#53\r\n",
      "12-Sep-2015 08:29:05.602 success resolving 'com/DS' (in '.'?) after reducing the advertised EDNS UDP packet size to 512 octets\r\n",
      "12-Sep-2015 08:29:05.603 error (network unreachable) resolving 'ubuntu.com/DS/IN': 2001:500:1::803f:235#53\r\n",
      "12-Sep-2015 08:29:05.604 error (network unreachable) resolving './NS/IN': 2001:500:1::803f:235#53\r\n",
      "12-Sep-2015 08:29:05.812 error (network unreachable) resolving 'ns2.p27.dynect.net/A/IN': 2001:500:90::100#53\r\n",
      "12-Sep-2015 08:29:05.902 success resolving 'ns2.p27.dynect.net/A' (in 'dynect.net'?) after reducing the advertised EDNS UDP packet size to 512 octets\r\n",
      "12-Sep-2015 08:29:27.146 shutting down\r\n",
      "12-Sep-2015 08:29:27.147 no longer listening on ::#53\r\n",
      "12-Sep-2015 08:29:27.147 no longer listening on 127.0.0.1#53\r\n",
      "12-Sep-2015 08:29:27.147 no longer listening on 172.17.0.35#53\r\n",
      "12-Sep-2015 08:29:27.156 exiting\r\n",
      "12-Sep-2015 08:29:27.818 starting BIND 9.9.5-3-Ubuntu -c /etc/bind/named.conf -g\r\n",
      "12-Sep-2015 08:29:27.818 built with '--prefix=/usr' '--mandir=/usr/share/man' '--infodir=/usr/share/info' '--sysconfdir=/etc/bind' '--localstatedir=/var' '--enable-threads' '--enable-largefile' '--with-libtool' '--enable-shared' '--enable-static' '--with-openssl=/usr' '--with-gssapi=/usr' '--with-gnu-ld' '--with-geoip=/usr' '--with-atf=no' '--enable-ipv6' '--enable-rrl' '--enable-filter-aaaa' 'CFLAGS=-fno-strict-aliasing -DDIG_SIGCHASE -O2'\r\n",
      "12-Sep-2015 08:29:27.818 ----------------------------------------------------\r\n",
      "12-Sep-2015 08:29:27.818 BIND 9 is maintained by Internet Systems Consortium,\r\n",
      "12-Sep-2015 08:29:27.818 Inc. (ISC), a non-profit 501(c)(3) public-benefit \r\n",
      "12-Sep-2015 08:29:27.818 corporation.  Support and training for BIND 9 are \r\n",
      "12-Sep-2015 08:29:27.818 available at https://www.isc.org/support\r\n",
      "12-Sep-2015 08:29:27.818 ----------------------------------------------------\r\n",
      "12-Sep-2015 08:29:27.819 found 4 CPUs, using 4 worker threads\r\n",
      "12-Sep-2015 08:29:27.819 using 4 UDP listeners per interface\r\n",
      "12-Sep-2015 08:29:27.819 using up to 4096 sockets\r\n",
      "12-Sep-2015 08:29:27.824 loading configuration from '/etc/bind/named.conf'\r\n",
      "12-Sep-2015 08:29:27.825 reading built-in trusted keys from file '/etc/bind/bind.keys'\r\n",
      "12-Sep-2015 08:29:27.825 using default UDP/IPv4 port range: [1024, 65535]\r\n",
      "12-Sep-2015 08:29:27.826 using default UDP/IPv6 port range: [1024, 65535]\r\n",
      "12-Sep-2015 08:29:27.827 listening on IPv6 interfaces, port 53\r\n",
      "12-Sep-2015 08:29:27.829 listening on IPv4 interface lo, 127.0.0.1#53\r\n",
      "12-Sep-2015 08:29:27.830 listening on IPv4 interface eth0, 172.17.0.36#53\r\n",
      "12-Sep-2015 08:29:27.833 generating session key for dynamic DNS\r\n",
      "12-Sep-2015 08:29:27.833 sizing zone task pool based on 6 zones\r\n",
      "12-Sep-2015 08:29:27.838 using built-in root key for view _default\r\n",
      "12-Sep-2015 08:29:27.838 set up managed keys zone for view _default, file 'managed-keys.bind'\r\n",
      "12-Sep-2015 08:29:27.838 automatic empty zone: 10.IN-ADDR.ARPA\r\n",
      "12-Sep-2015 08:29:27.838 automatic empty zone: 16.172.IN-ADDR.ARPA\r\n",
      "12-Sep-2015 08:29:27.838 automatic empty zone: 17.172.IN-ADDR.ARPA\r\n",
      "12-Sep-2015 08:29:27.838 automatic empty zone: 18.172.IN-ADDR.ARPA\r\n",
      "12-Sep-2015 08:29:27.839 automatic empty zone: 19.172.IN-ADDR.ARPA\r\n",
      "12-Sep-2015 08:29:27.839 automatic empty zone: 20.172.IN-ADDR.ARPA\r\n",
      "12-Sep-2015 08:29:27.839 automatic empty zone: 21.172.IN-ADDR.ARPA\r\n",
      "12-Sep-2015 08:29:27.839 automatic empty zone: 22.172.IN-ADDR.ARPA\r\n",
      "12-Sep-2015 08:29:27.839 automatic empty zone: 23.172.IN-ADDR.ARPA\r\n",
      "12-Sep-2015 08:29:27.839 automatic empty zone: 24.172.IN-ADDR.ARPA\r\n",
      "12-Sep-2015 08:29:27.839 automatic empty zone: 25.172.IN-ADDR.ARPA\r\n",
      "12-Sep-2015 08:29:27.839 automatic empty zone: 26.172.IN-ADDR.ARPA\r\n",
      "12-Sep-2015 08:29:27.839 automatic empty zone: 27.172.IN-ADDR.ARPA\r\n",
      "12-Sep-2015 08:29:27.839 automatic empty zone: 28.172.IN-ADDR.ARPA\r\n",
      "12-Sep-2015 08:29:27.839 automatic empty zone: 29.172.IN-ADDR.ARPA\r\n",
      "12-Sep-2015 08:29:27.839 automatic empty zone: 30.172.IN-ADDR.ARPA\r\n",
      "12-Sep-2015 08:29:27.839 automatic empty zone: 31.172.IN-ADDR.ARPA\r\n",
      "12-Sep-2015 08:29:27.839 automatic empty zone: 168.192.IN-ADDR.ARPA\r\n",
      "12-Sep-2015 08:29:27.839 automatic empty zone: 64.100.IN-ADDR.ARPA\r\n",
      "12-Sep-2015 08:29:27.839 automatic empty zone: 65.100.IN-ADDR.ARPA\r\n",
      "12-Sep-2015 08:29:27.839 automatic empty zone: 66.100.IN-ADDR.ARPA\r\n",
      "12-Sep-2015 08:29:27.839 automatic empty zone: 67.100.IN-ADDR.ARPA\r\n",
      "12-Sep-2015 08:29:27.840 automatic empty zone: 68.100.IN-ADDR.ARPA\r\n",
      "12-Sep-2015 08:29:27.840 automatic empty zone: 69.100.IN-ADDR.ARPA\r\n",
      "12-Sep-2015 08:29:27.840 automatic empty zone: 70.100.IN-ADDR.ARPA\r\n",
      "12-Sep-2015 08:29:27.840 automatic empty zone: 71.100.IN-ADDR.ARPA\r\n",
      "12-Sep-2015 08:29:27.840 automatic empty zone: 72.100.IN-ADDR.ARPA\r\n",
      "12-Sep-2015 08:29:27.840 automatic empty zone: 73.100.IN-ADDR.ARPA\r\n",
      "12-Sep-2015 08:29:27.840 automatic empty zone: 74.100.IN-ADDR.ARPA\r\n",
      "12-Sep-2015 08:29:27.840 automatic empty zone: 75.100.IN-ADDR.ARPA\r\n",
      "12-Sep-2015 08:29:27.840 automatic empty zone: 76.100.IN-ADDR.ARPA\r\n",
      "12-Sep-2015 08:29:27.840 automatic empty zone: 77.100.IN-ADDR.ARPA\r\n",
      "12-Sep-2015 08:29:27.840 automatic empty zone: 78.100.IN-ADDR.ARPA\r\n",
      "12-Sep-2015 08:29:27.840 automatic empty zone: 79.100.IN-ADDR.ARPA\r\n",
      "12-Sep-2015 08:29:27.840 automatic empty zone: 80.100.IN-ADDR.ARPA\r\n",
      "12-Sep-2015 08:29:27.840 automatic empty zone: 81.100.IN-ADDR.ARPA\r\n",
      "12-Sep-2015 08:29:27.840 automatic empty zone: 82.100.IN-ADDR.ARPA\r\n",
      "12-Sep-2015 08:29:27.840 automatic empty zone: 83.100.IN-ADDR.ARPA\r\n",
      "12-Sep-2015 08:29:27.840 automatic empty zone: 84.100.IN-ADDR.ARPA\r\n",
      "12-Sep-2015 08:29:27.841 automatic empty zone: 85.100.IN-ADDR.ARPA\r\n",
      "12-Sep-2015 08:29:27.841 automatic empty zone: 86.100.IN-ADDR.ARPA\r\n",
      "12-Sep-2015 08:29:27.841 automatic empty zone: 87.100.IN-ADDR.ARPA\r\n",
      "12-Sep-2015 08:29:27.841 automatic empty zone: 88.100.IN-ADDR.ARPA\r\n",
      "12-Sep-2015 08:29:27.841 automatic empty zone: 89.100.IN-ADDR.ARPA\r\n",
      "12-Sep-2015 08:29:27.841 automatic empty zone: 90.100.IN-ADDR.ARPA\r\n",
      "12-Sep-2015 08:29:27.841 automatic empty zone: 91.100.IN-ADDR.ARPA\r\n",
      "12-Sep-2015 08:29:27.841 automatic empty zone: 92.100.IN-ADDR.ARPA\r\n",
      "12-Sep-2015 08:29:27.841 automatic empty zone: 93.100.IN-ADDR.ARPA\r\n",
      "12-Sep-2015 08:29:27.841 automatic empty zone: 94.100.IN-ADDR.ARPA\r\n",
      "12-Sep-2015 08:29:27.841 automatic empty zone: 95.100.IN-ADDR.ARPA\r\n",
      "12-Sep-2015 08:29:27.841 automatic empty zone: 96.100.IN-ADDR.ARPA\r\n",
      "12-Sep-2015 08:29:27.841 automatic empty zone: 97.100.IN-ADDR.ARPA\r\n",
      "12-Sep-2015 08:29:27.841 automatic empty zone: 98.100.IN-ADDR.ARPA\r\n",
      "12-Sep-2015 08:29:27.841 automatic empty zone: 99.100.IN-ADDR.ARPA\r\n",
      "12-Sep-2015 08:29:27.841 automatic empty zone: 100.100.IN-ADDR.ARPA\r\n",
      "12-Sep-2015 08:29:27.841 automatic empty zone: 101.100.IN-ADDR.ARPA\r\n",
      "12-Sep-2015 08:29:27.841 automatic empty zone: 102.100.IN-ADDR.ARPA\r\n",
      "12-Sep-2015 08:29:27.842 automatic empty zone: 103.100.IN-ADDR.ARPA\r\n",
      "12-Sep-2015 08:29:27.842 automatic empty zone: 104.100.IN-ADDR.ARPA\r\n",
      "12-Sep-2015 08:29:27.842 automatic empty zone: 105.100.IN-ADDR.ARPA\r\n",
      "12-Sep-2015 08:29:27.842 automatic empty zone: 106.100.IN-ADDR.ARPA\r\n",
      "12-Sep-2015 08:29:27.842 automatic empty zone: 107.100.IN-ADDR.ARPA\r\n",
      "12-Sep-2015 08:29:27.842 automatic empty zone: 108.100.IN-ADDR.ARPA\r\n",
      "12-Sep-2015 08:29:27.842 automatic empty zone: 109.100.IN-ADDR.ARPA\r\n",
      "12-Sep-2015 08:29:27.842 automatic empty zone: 110.100.IN-ADDR.ARPA\r\n",
      "12-Sep-2015 08:29:27.842 automatic empty zone: 111.100.IN-ADDR.ARPA\r\n",
      "12-Sep-2015 08:29:27.842 automatic empty zone: 112.100.IN-ADDR.ARPA\r\n",
      "12-Sep-2015 08:29:27.842 automatic empty zone: 113.100.IN-ADDR.ARPA\r\n",
      "12-Sep-2015 08:29:27.842 automatic empty zone: 114.100.IN-ADDR.ARPA\r\n",
      "12-Sep-2015 08:29:27.842 automatic empty zone: 115.100.IN-ADDR.ARPA\r\n",
      "12-Sep-2015 08:29:27.842 automatic empty zone: 116.100.IN-ADDR.ARPA\r\n",
      "12-Sep-2015 08:29:27.842 automatic empty zone: 117.100.IN-ADDR.ARPA\r\n",
      "12-Sep-2015 08:29:27.842 automatic empty zone: 118.100.IN-ADDR.ARPA\r\n",
      "12-Sep-2015 08:29:27.842 automatic empty zone: 119.100.IN-ADDR.ARPA\r\n",
      "12-Sep-2015 08:29:27.843 automatic empty zone: 120.100.IN-ADDR.ARPA\r\n",
      "12-Sep-2015 08:29:27.843 automatic empty zone: 121.100.IN-ADDR.ARPA\r\n",
      "12-Sep-2015 08:29:27.843 automatic empty zone: 122.100.IN-ADDR.ARPA\r\n",
      "12-Sep-2015 08:29:27.843 automatic empty zone: 123.100.IN-ADDR.ARPA\r\n",
      "12-Sep-2015 08:29:27.843 automatic empty zone: 124.100.IN-ADDR.ARPA\r\n",
      "12-Sep-2015 08:29:27.843 automatic empty zone: 125.100.IN-ADDR.ARPA\r\n",
      "12-Sep-2015 08:29:27.843 automatic empty zone: 126.100.IN-ADDR.ARPA\r\n",
      "12-Sep-2015 08:29:27.843 automatic empty zone: 127.100.IN-ADDR.ARPA\r\n",
      "12-Sep-2015 08:29:27.843 automatic empty zone: 254.169.IN-ADDR.ARPA\r\n",
      "12-Sep-2015 08:29:27.843 automatic empty zone: 2.0.192.IN-ADDR.ARPA\r\n",
      "12-Sep-2015 08:29:27.843 automatic empty zone: 100.51.198.IN-ADDR.ARPA\r\n",
      "12-Sep-2015 08:29:27.843 automatic empty zone: 113.0.203.IN-ADDR.ARPA\r\n",
      "12-Sep-2015 08:29:27.843 automatic empty zone: 255.255.255.255.IN-ADDR.ARPA\r\n",
      "12-Sep-2015 08:29:27.843 automatic empty zone: 0.0.0.0.0.0.0.0.0.0.0.0.0.0.0.0.0.0.0.0.0.0.0.0.0.0.0.0.0.0.0.0.IP6.ARPA\r\n",
      "12-Sep-2015 08:29:27.843 automatic empty zone: 1.0.0.0.0.0.0.0.0.0.0.0.0.0.0.0.0.0.0.0.0.0.0.0.0.0.0.0.0.0.0.0.IP6.ARPA\r\n",
      "12-Sep-2015 08:29:27.843 automatic empty zone: D.F.IP6.ARPA\r\n",
      "12-Sep-2015 08:29:27.844 automatic empty zone: 8.E.F.IP6.ARPA\r\n",
      "12-Sep-2015 08:29:27.844 automatic empty zone: 9.E.F.IP6.ARPA\r\n",
      "12-Sep-2015 08:29:27.844 automatic empty zone: A.E.F.IP6.ARPA\r\n",
      "12-Sep-2015 08:29:27.844 automatic empty zone: B.E.F.IP6.ARPA\r\n",
      "12-Sep-2015 08:29:27.844 automatic empty zone: 8.B.D.0.1.0.0.2.IP6.ARPA\r\n",
      "12-Sep-2015 08:29:27.847 open: /etc/bind/rndc.key: permission denied\r\n",
      "12-Sep-2015 08:29:27.847 couldn't add command channel 127.0.0.1#953: permission denied\r\n",
      "12-Sep-2015 08:29:27.847 open: /etc/bind/rndc.key: permission denied\r\n",
      "12-Sep-2015 08:29:27.847 couldn't add command channel ::1#953: permission denied\r\n",
      "12-Sep-2015 08:29:27.847 not using config file logging statement for logging due to -g option\r\n",
      "12-Sep-2015 08:29:27.848 managed-keys-zone: loaded serial 2\r\n",
      "12-Sep-2015 08:29:27.849 zone 0.in-addr.arpa/IN: loaded serial 1\r\n",
      "12-Sep-2015 08:29:27.853 zone 255.in-addr.arpa/IN: loaded serial 1\r\n",
      "12-Sep-2015 08:29:27.856 zone 127.in-addr.arpa/IN: loaded serial 1\r\n",
      "12-Sep-2015 08:29:27.860 zone devops.it/IN: loaded serial 2\r\n",
      "12-Sep-2015 08:29:27.860 zone localhost/IN: loaded serial 2\r\n",
      "12-Sep-2015 08:29:27.861 all zones loaded\r\n",
      "12-Sep-2015 08:29:27.862 running\r\n",
      "12-Sep-2015 08:29:28.920 error (network unreachable) resolving './DNSKEY/IN': 2001:503:ba3e::2:30#53\r\n",
      "12-Sep-2015 08:29:29.535 error (network unreachable) resolving 'wiktmnh/A/IN': 2001:503:ba3e::2:30#53\r\n",
      "12-Sep-2015 08:29:29.535 error (network unreachable) resolving 'cgajbzywsfhtp/A/IN': 2001:503:ba3e::2:30#53\r\n",
      "12-Sep-2015 08:29:30.019 error (network unreachable) resolving 'ns1.p27.dynect.net/AAAA/IN': 2001:500:94::100#53\r\n",
      "12-Sep-2015 08:29:30.019 error (network unreachable) resolving 'ns1.p27.dynect.net/AAAA/IN': 2001:500:90::100#53\r\n",
      "12-Sep-2015 08:29:30.031 error (network unreachable) resolving 'daisy.ubuntu.com/AAAA/IN': 2001:500:90:1::27#53\r\n",
      "12-Sep-2015 08:29:31.321 error (network unreachable) resolving './DNSKEY/IN': 2001:500:3::42#53\r\n",
      "12-Sep-2015 08:29:31.372 error (network unreachable) resolving 'ns3.p27.dynect.net/AAAA/IN': 2001:500:3::42#53\r\n",
      "12-Sep-2015 08:29:31.698 error (network unreachable) resolving 'com/DS/IN': 2001:500:2f::f#53\r\n",
      "12-Sep-2015 08:29:31.698 error (network unreachable) resolving 'com/DS/IN': 2001:500:1::803f:235#53\r\n",
      "12-Sep-2015 08:29:31.699 error (network unreachable) resolving 'com/DS/IN': 2001:503:c27::2:30#53\r\n",
      "12-Sep-2015 08:29:31.699 error (network unreachable) resolving 'com/DS/IN': 2001:500:3::42#53\r\n",
      "12-Sep-2015 08:29:31.936 error (network unreachable) resolving 'cgajbzywsfhtp/A/IN': 2001:500:3::42#53\r\n",
      "12-Sep-2015 08:29:32.121 error (network unreachable) resolving './DNSKEY/IN': 2001:500:2f::f#53\r\n",
      "12-Sep-2015 08:29:32.122 error (network unreachable) resolving './DNSKEY/IN': 2001:500:1::803f:235#53\r\n",
      "12-Sep-2015 08:29:32.122 error (network unreachable) resolving './DNSKEY/IN': 2001:7fd::1#53\r\n",
      "12-Sep-2015 08:29:32.122 error (network unreachable) resolving './DNSKEY/IN': 2001:dc3::35#53\r\n",
      "12-Sep-2015 08:29:32.465 success resolving './DNSKEY' (in '.'?) after reducing the advertised EDNS UDP packet size to 512 octets\r\n",
      "12-Sep-2015 08:29:32.468 success resolving 'cgajbzywsfhtp/A' (in '.'?) after reducing the advertised EDNS UDP packet size to 512 octets\r\n",
      "12-Sep-2015 08:29:32.470 error (network unreachable) resolving './NS/IN': 2001:500:2d::d#53\r\n",
      "12-Sep-2015 08:29:32.470 error (network unreachable) resolving 'ubuntu.com/DS/IN': 2001:500:2d::d#53\r\n",
      "12-Sep-2015 08:29:32.492 success resolving 'ns3.p27.dynect.net/AAAA' (in 'dynect.net'?) after reducing the advertised EDNS UDP packet size to 512 octets\r\n",
      "12-Sep-2015 08:29:35.559 error (network unreachable) resolving 'daisy.ubuntu.com/A/IN': 2001:500:94:1::27#53\r\n",
      "12-Sep-2015 08:29:37.046 success resolving 'ns4.p27.dynect.net/A' (in 'dynect.net'?) after reducing the advertised EDNS UDP packet size to 512 octets\r\n",
      "12-Sep-2015 08:29:37.387 success resolving 'ubuntu.com/DS' (in 'com'?) after reducing the advertised EDNS UDP packet size to 512 octets\r\n",
      "12-Sep-2015 08:29:37.387 success resolving 'daisy.ubuntu.com/A' (in 'ubuntu.com'?) after disabling EDNS\r\n"
     ]
    }
   ],
   "source": [
    "docker logs dns"
   ]
  },
  {
   "cell_type": "code",
   "execution_count": 14,
   "metadata": {
    "collapsed": false
   },
   "outputs": [
    {
     "name": "stdout",
     "output_type": "stream",
     "text": [
      "Server:\t\t172.17.42.1\r\n",
      "Address:\t172.17.42.1#53\r\n",
      "\r\n",
      "Name:\twebapp.devops.it\r\n",
      "Address: 172.17.0.37\r\n",
      "\r\n"
     ]
    }
   ],
   "source": [
    "# lookup domain webapp.devops.it\n",
    "nslookup webapp.devops.it 172.17.42.1"
   ]
  },
  {
   "cell_type": "code",
   "execution_count": 11,
   "metadata": {
    "collapsed": false
   },
   "outputs": [
    {
     "name": "stdout",
     "output_type": "stream",
     "text": []
    }
   ],
   "source": [
    "# update domain webapp.devops.it\n",
    "echo \"server 172.17.42.1\n",
    "zone devops.it\n",
    "update add webapp.devops.it 600 A 172.17.0.34\n",
    "send\" | nsupdate -k /mnt/workspace/pycon-ddns-docker/ddns/Kdevops.it.+157+62009.key"
   ]
  },
  {
   "cell_type": "code",
   "execution_count": 13,
   "metadata": {
    "collapsed": false
   },
   "outputs": [
    {
     "name": "stdout",
     "output_type": "stream",
     "text": [
      "webapp\r\n"
     ]
    }
   ],
   "source": [
    "# 重启 webapp 容器，演示 DDNS\n",
    "docker restart webapp"
   ]
  },
  {
   "cell_type": "markdown",
   "metadata": {},
   "source": [
    "清理演示环境"
   ]
  },
  {
   "cell_type": "code",
   "execution_count": 19,
   "metadata": {
    "collapsed": false
   },
   "outputs": [
    {
     "name": "stdout",
     "output_type": "stream",
     "text": [
      "0\r\n"
     ]
    }
   ],
   "source": [
    "docker ps"
   ]
  },
  {
   "cell_type": "code",
   "execution_count": null,
   "metadata": {
    "collapsed": false,
    "slideshow": {
     "slide_type": "slide"
    }
   },
   "outputs": [],
   "source": [
    "docker stop webapp"
   ]
  },
  {
   "cell_type": "code",
   "execution_count": null,
   "metadata": {
    "collapsed": true
   },
   "outputs": [],
   "source": [
    "docker rm webapp"
   ]
  },
  {
   "cell_type": "code",
   "execution_count": 3,
   "metadata": {
    "collapsed": false
   },
   "outputs": [
    {
     "name": "stdout",
     "output_type": "stream",
     "text": [
      "Error response from daemon: no such id: dns\r\n",
      "Error: failed to remove containers: [dns]\r\n"
     ]
    }
   ],
   "source": [
    "docker stop dns"
   ]
  },
  {
   "cell_type": "code",
   "execution_count": null,
   "metadata": {
    "collapsed": true
   },
   "outputs": [],
   "source": [
    "docker rm dns"
   ]
  }
 ],
 "metadata": {
  "kernelspec": {
   "display_name": "Bash",
   "language": "bash",
   "name": "bash"
  },
  "language_info": {
   "codemirror_mode": "shell",
   "file_extension": ".sh",
   "mimetype": "text/x-sh",
   "name": "bash"
  }
 },
 "nbformat": 4,
 "nbformat_minor": 0
}
